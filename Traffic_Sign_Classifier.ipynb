{
 "cells": [
  {
   "cell_type": "markdown",
   "metadata": {},
   "source": [
    "# Self-Driving Car Engineer Nanodegree\n",
    "\n",
    "## Deep Learning\n",
    "\n",
    "## Project: Build a Traffic Sign Recognition Classifier\n",
    "\n",
    "In this notebook, a template is provided for you to implement your functionality in stages, which is required to successfully complete this project. If additional code is required that cannot be included in the notebook, be sure that the Python code is successfully imported and included in your submission if necessary. \n",
    "\n",
    "> **Note**: Once you have completed all of the code implementations, you need to finalize your work by exporting the iPython Notebook as an HTML document. Before exporting the notebook to html, all of the code cells need to have been run so that reviewers can see the final implementation and output. You can then export the notebook by using the menu above and navigating to  \\n\",\n",
    "    \"**File -> Download as -> HTML (.html)**. Include the finished document along with this notebook as your submission. \n",
    "\n",
    "In addition to implementing code, there is a writeup to complete. The writeup should be completed in a separate file, which can be either a markdown file or a pdf document. There is a [write up template](https://github.com/udacity/CarND-Traffic-Sign-Classifier-Project/blob/master/writeup_template.md) that can be used to guide the writing process. Completing the code template and writeup template will cover all of the [rubric points](https://review.udacity.com/#!/rubrics/481/view) for this project.\n",
    "\n",
    "The [rubric](https://review.udacity.com/#!/rubrics/481/view) contains \"Stand Out Suggestions\" for enhancing the project beyond the minimum requirements. The stand out suggestions are optional. If you decide to pursue the \"stand out suggestions\", you can include the code in this Ipython notebook and also discuss the results in the writeup file.\n",
    "\n",
    "\n",
    ">**Note:** Code and Markdown cells can be executed using the **Shift + Enter** keyboard shortcut. In addition, Markdown cells can be edited by typically double-clicking the cell to enter edit mode."
   ]
  },
  {
   "cell_type": "markdown",
   "metadata": {},
   "source": [
    "---\n",
    "## Step 0: Load The Data"
   ]
  },
  {
   "cell_type": "code",
   "execution_count": 1,
   "metadata": {
    "collapsed": true
   },
   "outputs": [],
   "source": [
    "# Load pickled data\n",
    "import pickle\n",
    "\n",
    "# TODO: Fill this in based on where you saved the training and testing data\n",
    "\n",
    "training_file = 'data/train.p'\n",
    "validation_file = 'data/valid.p'\n",
    "testing_file = 'data/test.p'\n",
    "\n",
    "with open(training_file, mode='rb') as f:\n",
    "    train = pickle.load(f)\n",
    "with open(validation_file, mode='rb') as f:\n",
    "    valid = pickle.load(f)\n",
    "with open(testing_file, mode='rb') as f:\n",
    "    test = pickle.load(f)\n",
    "    \n",
    "X_train, y_train = train['features'], train['labels']\n",
    "X_valid, y_valid = valid['features'], valid['labels']\n",
    "X_test, y_test = test['features'], test['labels']"
   ]
  },
  {
   "cell_type": "markdown",
   "metadata": {},
   "source": [
    "---\n",
    "\n",
    "## Step 1: Dataset Summary & Exploration\n",
    "\n",
    "The pickled data is a dictionary with 4 key/value pairs:\n",
    "\n",
    "- `'features'` is a 4D array containing raw pixel data of the traffic sign images, (num examples, width, height, channels).\n",
    "- `'labels'` is a 1D array containing the label/class id of the traffic sign. The file `signnames.csv` contains id -> name mappings for each id.\n",
    "- `'sizes'` is a list containing tuples, (width, height) representing the original width and height the image.\n",
    "- `'coords'` is a list containing tuples, (x1, y1, x2, y2) representing coordinates of a bounding box around the sign in the image. **THESE COORDINATES ASSUME THE ORIGINAL IMAGE. THE PICKLED DATA CONTAINS RESIZED VERSIONS (32 by 32) OF THESE IMAGES**\n",
    "\n",
    "Complete the basic data summary below. Use python, numpy and/or pandas methods to calculate the data summary rather than hard coding the results. For example, the [pandas shape method](http://pandas.pydata.org/pandas-docs/stable/generated/pandas.DataFrame.shape.html) might be useful for calculating some of the summary results. "
   ]
  },
  {
   "cell_type": "markdown",
   "metadata": {},
   "source": [
    "### Provide a Basic Summary of the Data Set Using Python, Numpy and/or Pandas"
   ]
  },
  {
   "cell_type": "code",
   "execution_count": 2,
   "metadata": {},
   "outputs": [
    {
     "name": "stdout",
     "output_type": "stream",
     "text": [
      "Number of training examples = 34799\n",
      "Number of testing examples = 12630\n",
      "Image data shape = (32, 32, 3)\n",
      "Number of classes = 43\n"
     ]
    }
   ],
   "source": [
    "### Replace each question mark with the appropriate value. \n",
    "### Use python, pandas or numpy methods rather than hard coding the results\n",
    "\n",
    "# TODO: Number of training examples\n",
    "n_train = len(y_train)\n",
    "\n",
    "# TODO: Number of validation examples\n",
    "n_validation = len(y_valid)\n",
    "\n",
    "# TODO: Number of testing examples.\n",
    "n_test = len(y_test)\n",
    "\n",
    "# TODO: What's the shape of an traffic sign image?\n",
    "image_shape = X_train[0].shape\n",
    "\n",
    "# TODO: How many unique classes/labels there are in the dataset.\n",
    "n_classes = len(list(set(y_train)))\n",
    "\n",
    "print(\"Number of training examples =\", n_train)\n",
    "print(\"Number of testing examples =\", n_test)\n",
    "print(\"Image data shape =\", image_shape)\n",
    "print(\"Number of classes =\", n_classes)"
   ]
  },
  {
   "cell_type": "markdown",
   "metadata": {},
   "source": [
    "### Include an exploratory visualization of the dataset"
   ]
  },
  {
   "cell_type": "markdown",
   "metadata": {},
   "source": [
    "Visualize the German Traffic Signs Dataset using the pickled file(s). This is open ended, suggestions include: plotting traffic sign images, plotting the count of each sign, etc. \n",
    "\n",
    "The [Matplotlib](http://matplotlib.org/) [examples](http://matplotlib.org/examples/index.html) and [gallery](http://matplotlib.org/gallery.html) pages are a great resource for doing visualizations in Python.\n",
    "\n",
    "**NOTE:** It's recommended you start with something simple first. If you wish to do more, come back to it after you've completed the rest of the sections. It can be interesting to look at the distribution of classes in the training, validation and test set. Is the distribution the same? Are there more examples of some classes than others?"
   ]
  },
  {
   "cell_type": "code",
   "execution_count": 3,
   "metadata": {},
   "outputs": [
    {
     "name": "stdout",
     "output_type": "stream",
     "text": [
      "40\n"
     ]
    },
    {
     "data": {
      "text/plain": [
       "<matplotlib.image.AxesImage at 0x7f099f4dc080>"
      ]
     },
     "execution_count": 3,
     "metadata": {},
     "output_type": "execute_result"
    },
    {
     "data": {
      "image/png": "[encoded data removed]",
      "text/plain": [
       "<matplotlib.figure.Figure at 0x7f09b8155e80>"
      ]
     },
     "metadata": {},
     "output_type": "display_data"
    }
   ],
   "source": [
    "### Data exploration visualization code goes here.\n",
    "### Feel free to use as many code cells as needed.\n",
    "import matplotlib.pyplot as plt\n",
    "# Visualizations will be shown in the notebook.\n",
    "%matplotlib inline\n",
    "\n",
    "import random\n",
    "\n",
    "index = random.randint(0, n_train)\n",
    "image = X_train[index]\n",
    "\n",
    "print(y_train[index])\n",
    "plt.imshow(image)"
   ]
  },
  {
   "cell_type": "markdown",
   "metadata": {},
   "source": [
    "----\n",
    "\n",
    "## Step 2: Design and Test a Model Architecture\n",
    "\n",
    "Design and implement a deep learning model that learns to recognize traffic signs. Train and test your model on the [German Traffic Sign Dataset](http://benchmark.ini.rub.de/?section=gtsrb&subsection=dataset).\n",
    "\n",
    "The LeNet-5 implementation shown in the [classroom](https://classroom.udacity.com/nanodegrees/nd013/parts/fbf77062-5703-404e-b60c-95b78b2f3f9e/modules/6df7ae49-c61c-4bb2-a23e-6527e69209ec/lessons/601ae704-1035-4287-8b11-e2c2716217ad/concepts/d4aca031-508f-4e0b-b493-e7b706120f81) at the end of the CNN lesson is a solid starting point. You'll have to change the number of classes and possibly the preprocessing, but aside from that it's plug and play! \n",
    "\n",
    "With the LeNet-5 solution from the lecture, you should expect a validation set accuracy of about 0.89. To meet specifications, the validation set accuracy will need to be at least 0.93. It is possible to get an even higher accuracy, but 0.93 is the minimum for a successful project submission. \n",
    "\n",
    "There are various aspects to consider when thinking about this problem:\n",
    "\n",
    "- Neural network architecture (is the network over or underfitting?)\n",
    "- Play around preprocessing techniques (normalization, rgb to grayscale, etc)\n",
    "- Number of examples per label (some have more than others).\n",
    "- Generate fake data.\n",
    "\n",
    "Here is an example of a [published baseline model on this problem](http://yann.lecun.com/exdb/publis/pdf/sermanet-ijcnn-11.pdf). It's not required to be familiar with the approach used in the paper but, it's good practice to try to read papers like these."
   ]
  },
  {
   "cell_type": "markdown",
   "metadata": {},
   "source": [
    "### Pre-process the Data Set (normalization, grayscale, etc.)"
   ]
  },
  {
   "cell_type": "markdown",
   "metadata": {},
   "source": [
    "Minimally, the image data should be normalized so that the data has mean zero and equal variance. For image data, `(pixel - 128)/ 128` is a quick way to approximately normalize the data and can be used in this project. \n",
    "\n",
    "Other pre-processing steps are optional. You can try different techniques to see if it improves performance. \n",
    "\n",
    "Use the code cell (or multiple code cells, if necessary) to implement the first step of your project."
   ]
  },
  {
   "cell_type": "code",
   "execution_count": 4,
   "metadata": {},
   "outputs": [],
   "source": [
    "### Preprocess the data here. It is required to normalize the data. Other preprocessing steps could include \n",
    "### converting to grayscale, etc.\n",
    "### Feel free to use as many code cells as needed.\n",
    "\n",
    "import cv2\n",
    "import numpy as np\n",
    "\n",
    "x_train = []\n",
    "x_valid = []\n",
    "x_test = []\n",
    "# GrayScaling \n",
    "for i in range(n_train):\n",
    "    x_train.append(cv2.cvtColor(X_train[i], cv2.COLOR_BGR2GRAY))\n",
    "for i in range(n_validation):\n",
    "    x_valid.append(cv2.cvtColor(X_valid[i], cv2.COLOR_BGR2GRAY))\n",
    "for i in range(n_test):\n",
    "    x_test.append(cv2.cvtColor(X_test[i], cv2.COLOR_BGR2GRAY))\n",
    "\n",
    "\n",
    "# Normaization with sklearn\n",
    "from sklearn.preprocessing import MinMaxScaler\n",
    "scaler = MinMaxScaler(feature_range=(0,1))\n",
    "\n",
    "for i in range(n_train):\n",
    "    reshaped = np.reshape(x_train[i], (-1,1))\n",
    "    reshaped = reshaped.astype('float64')\n",
    "    scaled = scaler.fit_transform(reshaped)\n",
    "    x_train[i] = np.reshape(scaled, (32,32,1))\n",
    "    x_train[i] = x_train[i].astype('float32')\n",
    "    y_train[i] = y_train[i].astype('uint8')\n",
    "    x_train[i].tolist()\n",
    "    y_train[i].tolist()\n",
    "\n",
    "    \n",
    "for i in range(n_validation):\n",
    "    reshaped = np.reshape(x_valid[i], (-1,1))\n",
    "    reshaped = reshaped.astype('float64')\n",
    "    scaled = scaler.fit_transform(reshaped)\n",
    "    x_valid[i] = np.reshape(scaled, (32,32,1))\n",
    "    x_valid[i] = x_valid[i].astype('float32')\n",
    "    y_valid[i] = y_valid[i].astype('uint8')\n",
    "    x_valid[i].tolist()\n",
    "    y_valid[i].tolist()\n",
    "    \n",
    "for i in range(n_test):\n",
    "    reshaped = np.reshape(x_test[i], (-1,1))\n",
    "    reshaped = reshaped.astype('float64')\n",
    "    scaled = scaler.fit_transform(reshaped)\n",
    "    x_test[i] = np.reshape(scaled, (32,32,1))\n",
    "    x_test[i] = x_test[i].astype('float32')\n",
    "    y_test[i] = y_test[i].astype('uint8')\n",
    "    x_test[i].tolist()\n",
    "    y_test[i].tolist()\n",
    "\n",
    "# Shuffle data with sklearn for smooth learning\n",
    "from sklearn.utils import shuffle\n",
    "x_train, y_train = shuffle(x_train, y_train)\n"
   ]
  },
  {
   "cell_type": "code",
   "execution_count": 5,
   "metadata": {
    "collapsed": true
   },
   "outputs": [],
   "source": [
    "# delete useless variables\n",
    "\n",
    "del(X_test)\n",
    "del(X_train)\n",
    "del(X_valid)"
   ]
  },
  {
   "cell_type": "markdown",
   "metadata": {},
   "source": [
    "### Model Architecture"
   ]
  },
  {
   "cell_type": "code",
   "execution_count": 6,
   "metadata": {
    "collapsed": true
   },
   "outputs": [],
   "source": [
    "### Define your architecture here.\n",
    "### Feel free to use as many code cells as needed.\n",
    "\n",
    "import tensorflow as tf\n",
    "\n",
    "learning_rate = 0.001\n",
    "\n",
    "mean = 0\n",
    "sigma = 0.1\n",
    "\n",
    "X = tf.placeholder(tf.float32, [None, 32, 32, 1])\n",
    "Y = tf.placeholder(tf.uint8, [None])\n",
    "Y_one_hot = tf.one_hot(Y, depth = 43)\n",
    "\n",
    "keep_prob = tf.placeholder(tf.float32)\n",
    "\n",
    "# Convolutional Layers\n",
    "W1 = tf.Variable(tf.truncated_normal(shape=(5, 5, 1, 8), mean=mean, stddev=sigma))\n",
    "b1 = tf.Variable(tf.zeros(8))\n",
    "L1 = tf.nn.conv2d(X, W1, strides = [1, 1, 1, 1], padding = 'SAME') + b1\n",
    "L1 = tf.nn.relu(L1)\n",
    "L1 = tf.nn.max_pool(L1,ksize=[1, 2, 2, 1], strides=[1, 2, 2, 1], padding = 'SAME')\n",
    "# L1 ==> (?, 16, 16, 8)\n",
    "\n",
    "W2 = tf.Variable(tf.truncated_normal(shape=(5, 5, 8, 16), mean=mean, stddev=sigma))\n",
    "b2 = tf.Variable(tf.zeros(16))\n",
    "L2 = tf.nn.conv2d(L1, W2, strides = [1, 1, 1, 1], padding = 'SAME') + b2\n",
    "L2 = tf.nn.relu(L2)\n",
    "L2 = tf.nn.max_pool(L2,ksize=[1, 2, 2, 1], strides=[1, 2, 2, 1], padding = 'SAME')\n",
    "# L2 ==> (?, 8, 8, 16)\n",
    "\n",
    "FC_input = tf.reshape(L2, [-1, 8 * 8 * 16])\n",
    "\n",
    "# Fully Connected Layers\n",
    "W4 = tf.get_variable('W4', shape=[8 * 8 * 16, 300], initializer = tf.contrib.layers.xavier_initializer())\n",
    "b4 = tf.Variable(tf.zeros(300))\n",
    "L4 = tf.nn.relu(tf.matmul(FC_input,W4) + b4)\n",
    "L4 = tf.nn.dropout(L4, keep_prob = keep_prob)\n",
    "\n",
    "W5 = tf.get_variable('W5', shape=[300, 120], initializer = tf.contrib.layers.xavier_initializer())\n",
    "b5 = tf.Variable(tf.zeros(120))\n",
    "L5 = tf.nn.relu(tf.matmul(L4,W5) + b5)\n",
    "L5 = tf.nn.dropout(L5, keep_prob = keep_prob)\n",
    "\n",
    "W6 = tf.get_variable('W6', shape=[120, 43], initializer = tf.contrib.layers.xavier_initializer())\n",
    "b6 = tf.Variable(tf.zeros(43))\n",
    "\n",
    "hypothesis = tf.matmul(L5, W6) + b6\n",
    "\n",
    "cost = tf.reduce_mean(tf.nn.softmax_cross_entropy_with_logits(logits=hypothesis, labels=Y_one_hot))\n",
    "train = tf.train.AdamOptimizer(learning_rate = learning_rate).minimize(cost)"
   ]
  },
  {
   "cell_type": "markdown",
   "metadata": {},
   "source": [
    "### Train, Validate and Test the Model"
   ]
  },
  {
   "cell_type": "markdown",
   "metadata": {},
   "source": [
    "A validation set can be used to assess how well the model is performing. A low accuracy on the training and validation\n",
    "sets imply underfitting. A high accuracy on the training set but low accuracy on the validation set implies overfitting."
   ]
  },
  {
   "cell_type": "code",
   "execution_count": 7,
   "metadata": {
    "scrolled": false
   },
   "outputs": [
    {
     "name": "stdout",
     "output_type": "stream",
     "text": [
      "Epoch 1 cost = 1.751\n",
      "Validation Accuracy = 0.786\n",
      "Epoch 2 cost = 0.490\n",
      "Validation Accuracy = 0.856\n",
      "Epoch 3 cost = 0.270\n",
      "Validation Accuracy = 0.906\n",
      "Epoch 4 cost = 0.175\n",
      "Validation Accuracy = 0.914\n",
      "Epoch 5 cost = 0.128\n",
      "Validation Accuracy = 0.924\n",
      "Epoch 6 cost = 0.095\n",
      "Validation Accuracy = 0.920\n",
      "Epoch 7 cost = 0.080\n",
      "Validation Accuracy = 0.935\n",
      "Epoch 8 cost = 0.071\n",
      "Validation Accuracy = 0.931\n",
      "Epoch 9 cost = 0.055\n",
      "Validation Accuracy = 0.929\n",
      "Epoch 10 cost = 0.053\n",
      "Validation Accuracy = 0.928\n",
      "Epoch 11 cost = 0.045\n",
      "Validation Accuracy = 0.934\n",
      "Epoch 12 cost = 0.039\n",
      "Validation Accuracy = 0.941\n",
      "Epoch 13 cost = 0.033\n",
      "Validation Accuracy = 0.940\n",
      "Epoch 14 cost = 0.029\n",
      "Validation Accuracy = 0.942\n",
      "Epoch 15 cost = 0.031\n",
      "Validation Accuracy = 0.937\n",
      "Epoch 16 cost = 0.030\n",
      "Validation Accuracy = 0.942\n",
      "Epoch 17 cost = 0.027\n",
      "Validation Accuracy = 0.939\n",
      "Epoch 18 cost = 0.025\n",
      "Validation Accuracy = 0.936\n",
      "Epoch 19 cost = 0.027\n",
      "Validation Accuracy = 0.943\n",
      "Epoch 20 cost = 0.023\n",
      "Validation Accuracy = 0.942\n",
      "Epoch 21 cost = 0.021\n",
      "Validation Accuracy = 0.935\n",
      "Epoch 22 cost = 0.019\n",
      "Validation Accuracy = 0.950\n",
      "Epoch 23 cost = 0.019\n",
      "Validation Accuracy = 0.942\n",
      "Epoch 24 cost = 0.021\n",
      "Validation Accuracy = 0.941\n",
      "Epoch 25 cost = 0.022\n",
      "Validation Accuracy = 0.937\n",
      "Epoch 26 cost = 0.016\n",
      "Validation Accuracy = 0.949\n",
      "Epoch 27 cost = 0.018\n",
      "Validation Accuracy = 0.947\n",
      "Epoch 28 cost = 0.018\n",
      "Validation Accuracy = 0.951\n",
      "Epoch 29 cost = 0.017\n",
      "Validation Accuracy = 0.947\n",
      "Epoch 30 cost = 0.013\n",
      "Validation Accuracy = 0.946\n",
      "Epoch 31 cost = 0.013\n",
      "Validation Accuracy = 0.942\n",
      "Epoch 32 cost = 0.016\n",
      "Validation Accuracy = 0.951\n",
      "Epoch 33 cost = 0.014\n",
      "Validation Accuracy = 0.950\n",
      "Epoch 34 cost = 0.016\n",
      "Validation Accuracy = 0.954\n",
      "Epoch 35 cost = 0.010\n",
      "Validation Accuracy = 0.942\n",
      "Epoch 36 cost = 0.015\n",
      "Validation Accuracy = 0.948\n",
      "Epoch 37 cost = 0.017\n",
      "Validation Accuracy = 0.941\n",
      "Epoch 38 cost = 0.014\n",
      "Validation Accuracy = 0.956\n",
      "Epoch 39 cost = 0.012\n",
      "Validation Accuracy = 0.948\n",
      "Epoch 40 cost = 0.013\n",
      "Validation Accuracy = 0.949\n",
      "training finished.\n",
      "Accuracy = 0.942\n"
     ]
    }
   ],
   "source": [
    "### Train your model here.\n",
    "### Calculate and report the accuracy on the training and validation set.\n",
    "### Once a final model architecture is selected, \n",
    "### the accuracy on the test set should be calculated and reported as well.\n",
    "### Feel free to use as many code cells as needed.\n",
    "\n",
    "epochs = 40\n",
    "batch_size = 100\n",
    "\n",
    "# For test and validation\n",
    "correct_prediction = tf.equal(tf.argmax(hypothesis, 1), tf.argmax(Y_one_hot, 1))\n",
    "accuracy = tf.reduce_mean(tf.cast(correct_prediction, tf.float32))    \n",
    "def calc_acc(x_data, y_data, sess):\n",
    "    avg_acc = 0\n",
    "    total_batch = int(len(x_data) / batch_size)\n",
    "    for i in range(total_batch):\n",
    "        start, end = i * batch_size, (i + 1) * batch_size\n",
    "        if total_batch - 1 == i:\n",
    "            batch_x, batch_y = x_data[start:], y_data[start:]\n",
    "        else:\n",
    "            batch_x, batch_y = x_data[start:end], y_data[start:end]\n",
    "        c = sess.run(accuracy, feed_dict = {X:batch_x, Y:batch_y, keep_prob:1})\n",
    "        avg_acc += c / total_batch\n",
    "    return avg_acc\n",
    "\n",
    "\n",
    "# Training\n",
    "sess = tf.Session()\n",
    "sess.run(tf.global_variables_initializer())\n",
    "\n",
    "for epoch in range(epochs):\n",
    "    avg_cost = 0\n",
    "    total_batch = int(n_train / batch_size)\n",
    "    \n",
    "    for i in range(total_batch):\n",
    "        start, end = i * batch_size, (i + 1) * batch_size\n",
    "        if total_batch - 1 == i:\n",
    "            batch_x, batch_y = x_train[start:], y_train[start:]\n",
    "        else:\n",
    "            batch_x, batch_y = x_train[start:end], y_train[start:end]\n",
    "        c, _ = sess.run([cost, train], feed_dict = {X:batch_x, Y:batch_y, keep_prob:0.7})\n",
    "        avg_cost += c / total_batch\n",
    "        \n",
    "    print('Epoch', epoch + 1, 'cost = {:.3f}'.format(avg_cost))\n",
    "    print('Validation Accuracy = {:.3f}'.format(calc_acc(x_valid, y_valid, sess)))\n",
    "\n",
    "print('training finished.')\n",
    "print('Accuracy = {:.3f}'.format(calc_acc(x_test, y_test, sess)))\n"
   ]
  },
  {
   "cell_type": "markdown",
   "metadata": {},
   "source": [
    "---\n",
    "\n",
    "## Step 3: Test a Model on New Images\n",
    "\n",
    "To give yourself more insight into how your model is working, download at least five pictures of German traffic signs from the web and use your model to predict the traffic sign type.\n",
    "\n",
    "You may find `signnames.csv` useful as it contains mappings from the class id (integer) to the actual sign name."
   ]
  },
  {
   "cell_type": "markdown",
   "metadata": {},
   "source": [
    "### Load and Output the Images"
   ]
  },
  {
   "cell_type": "code",
   "execution_count": 8,
   "metadata": {
    "collapsed": true
   },
   "outputs": [],
   "source": [
    "### Load the images and plot them here.\n",
    "### Feel free to use as many code cells as needed.\n",
    "import matplotlib.image as mpimg\n",
    "\n",
    "image1 = mpimg.imread('images_from_web/german_traffic_sign_1.png')\n",
    "image2 = mpimg.imread('images_from_web/german_traffic_sign_2.png')\n",
    "image3 = mpimg.imread('images_from_web/german_traffic_sign_3.png')\n",
    "image4 = mpimg.imread('images_from_web/german_traffic_sign_4.png')\n",
    "image5 = mpimg.imread('images_from_web/german_traffic_sign_5.png')\n"
   ]
  },
  {
   "cell_type": "code",
   "execution_count": 9,
   "metadata": {},
   "outputs": [
    {
     "data": {
      "text/plain": [
       "<matplotlib.image.AxesImage at 0x7f097c5b1358>"
      ]
     },
     "execution_count": 9,
     "metadata": {},
     "output_type": "execute_result"
    },
    {
     "data": {
      "image/png": "[encoded data removed]",
      "text/plain": [
       "<matplotlib.figure.Figure at 0x7f097ee37da0>"
      ]
     },
     "metadata": {},
     "output_type": "display_data"
    }
   ],
   "source": [
    "plt.imshow(image1)"
   ]
  },
  {
   "cell_type": "code",
   "execution_count": 10,
   "metadata": {},
   "outputs": [
    {
     "data": {
      "text/plain": [
       "<matplotlib.image.AxesImage at 0x7f097c53be10>"
      ]
     },
     "execution_count": 10,
     "metadata": {},
     "output_type": "execute_result"
    },
    {
     "data": {
      "image/png": "[encoded data removed]",
      "text/plain": [
       "<matplotlib.figure.Figure at 0x7f097c5cfe80>"
      ]
     },
     "metadata": {},
     "output_type": "display_data"
    }
   ],
   "source": [
    "plt.imshow(image2)"
   ]
  },
  {
   "cell_type": "code",
   "execution_count": 11,
   "metadata": {},
   "outputs": [
    {
     "data": {
      "text/plain": [
       "<matplotlib.image.AxesImage at 0x7f097c4a6400>"
      ]
     },
     "execution_count": 11,
     "metadata": {},
     "output_type": "execute_result"
    },
    {
     "data": {
      "image/png": "[encoded data removed]",
      "text/plain": [
       "<matplotlib.figure.Figure at 0x7f097c4db9b0>"
      ]
     },
     "metadata": {},
     "output_type": "display_data"
    }
   ],
   "source": [
    "plt.imshow(image3)"
   ]
  },
  {
   "cell_type": "code",
   "execution_count": 12,
   "metadata": {},
   "outputs": [
    {
     "data": {
      "text/plain": [
       "<matplotlib.image.AxesImage at 0x7f097c494a20>"
      ]
     },
     "execution_count": 12,
     "metadata": {},
     "output_type": "execute_result"
    },
    {
     "data": {
      "image/png": "[encoded data removed]",
      "text/plain": [
       "<matplotlib.figure.Figure at 0x7f097c4c1b38>"
      ]
     },
     "metadata": {},
     "output_type": "display_data"
    }
   ],
   "source": [
    "plt.imshow(image4)"
   ]
  },
  {
   "cell_type": "code",
   "execution_count": 13,
   "metadata": {},
   "outputs": [
    {
     "data": {
      "text/plain": [
       "<matplotlib.image.AxesImage at 0x7f09767eb080>"
      ]
     },
     "execution_count": 13,
     "metadata": {},
     "output_type": "execute_result"
    },
    {
     "data": {
      "image/png": "[encoded data removed]",
      "text/plain": [
       "<matplotlib.figure.Figure at 0x7f097c436860>"
      ]
     },
     "metadata": {},
     "output_type": "display_data"
    }
   ],
   "source": [
    "plt.imshow(image5)"
   ]
  },
  {
   "cell_type": "code",
   "execution_count": 14,
   "metadata": {
    "collapsed": true
   },
   "outputs": [],
   "source": [
    "# Read signnames.csv\n",
    "reading = np.loadtxt('signnames.csv', delimiter=',', dtype=np.string_)\n",
    "\n",
    "y_index = reading[:,0:-1] \n",
    "y_sign_name = reading[:,[-1]]\n",
    "\n",
    "my_input = []\n",
    "\n",
    "# Grayscaling\n",
    "my_input.append(cv2.cvtColor(image1, cv2.COLOR_BGR2GRAY))\n",
    "my_input.append(cv2.cvtColor(image2, cv2.COLOR_BGR2GRAY))\n",
    "my_input.append(cv2.cvtColor(image3, cv2.COLOR_BGR2GRAY))\n",
    "my_input.append(cv2.cvtColor(image4, cv2.COLOR_BGR2GRAY))\n",
    "my_input.append(cv2.cvtColor(image5, cv2.COLOR_BGR2GRAY))\n",
    "\n",
    "# Normaization with sklearn\n",
    "for i in range(5):\n",
    "    reshaped = np.reshape(my_input[i], (-1,1))\n",
    "    reshaped = reshaped.astype('float64')\n",
    "    scaled = scaler.fit_transform(reshaped)\n",
    "    my_input[i] = np.reshape(scaled, (32,32,1))\n",
    "    my_input[i] = my_input[i].astype('float32')\n",
    "    my_input[i].tolist()\n",
    "    \n",
    "result_index=[17, 14, 3, 37, 36]\n",
    "result = ['No entry', 'Stop', 'Speed limit (60km/h)', 'Go straight or left', 'Go straight or right']"
   ]
  },
  {
   "cell_type": "markdown",
   "metadata": {},
   "source": [
    "### Predict the Sign Type for Each Image"
   ]
  },
  {
   "cell_type": "code",
   "execution_count": 16,
   "metadata": {},
   "outputs": [
    {
     "name": "stdout",
     "output_type": "stream",
     "text": [
      "[17 14  3 37 36]\n",
      "[b'No entry']\n",
      "[b'Stop']\n",
      "[b'Speed limit (60km/h)']\n",
      "[b'Go straight or left']\n",
      "[b'Go straight or right']\n"
     ]
    }
   ],
   "source": [
    "### Run the predictions here and use the model to output the prediction for each image.\n",
    "### Make sure to pre-process the images with the same pre-processing pipeline used earlier.\n",
    "### Feel free to use as many code cells as needed.\n",
    "hypo = sess.run(hypothesis, feed_dict={X:my_input, keep_prob:1})\n",
    "results = sess.run(tf.argmax(hypo,1))\n",
    "print(results)\n",
    "for i in results:\n",
    "    print(y_sign_name[i+1])"
   ]
  },
  {
   "cell_type": "markdown",
   "metadata": {},
   "source": [
    "### Analyze Performance"
   ]
  },
  {
   "cell_type": "code",
   "execution_count": 17,
   "metadata": {},
   "outputs": [
    {
     "name": "stdout",
     "output_type": "stream",
     "text": [
      "accuracy =  100.0 %\n"
     ]
    }
   ],
   "source": [
    "### Calculate the accuracy for these 5 new images. \n",
    "### For example, if the model predicted 1 out of 5 signs correctly, it's 20% accurate on these new images.\n",
    "cnt = 0\n",
    "for i in range(5):\n",
    "    if results[i] == result_index[i]:\n",
    "        cnt += 1\n",
    "\n",
    "print(\"accuracy = \", cnt / 5 * 100, \"%\")"
   ]
  },
  {
   "cell_type": "markdown",
   "metadata": {},
   "source": [
    "### Output Top 5 Softmax Probabilities For Each Image Found on the Web"
   ]
  },
  {
   "cell_type": "markdown",
   "metadata": {},
   "source": [
    "For each of the new images, print out the model's softmax probabilities to show the **certainty** of the model's predictions (limit the output to the top 5 probabilities for each image). [`tf.nn.top_k`](https://www.tensorflow.org/versions/r0.12/api_docs/python/nn.html#top_k) could prove helpful here. \n",
    "\n",
    "The example below demonstrates how tf.nn.top_k can be used to find the top k predictions for each image.\n",
    "\n",
    "`tf.nn.top_k` will return the values and indices (class ids) of the top k predictions. So if k=3, for each sign, it'll return the 3 largest probabilities (out of a possible 43) and the correspoding class ids.\n",
    "\n",
    "Take this numpy array as an example. The values in the array represent predictions. The array contains softmax probabilities for five candidate images with six possible classes. `tk.nn.top_k` is used to choose the three classes with the highest probability:\n",
    "\n",
    "```\n",
    "# (5, 6) array\n",
    "a = np.array([[ 0.24879643,  0.07032244,  0.12641572,  0.34763842,  0.07893497,\n",
    "         0.12789202],\n",
    "       [ 0.28086119,  0.27569815,  0.08594638,  0.0178669 ,  0.18063401,\n",
    "         0.15899337],\n",
    "       [ 0.26076848,  0.23664738,  0.08020603,  0.07001922,  0.1134371 ,\n",
    "         0.23892179],\n",
    "       [ 0.11943333,  0.29198961,  0.02605103,  0.26234032,  0.1351348 ,\n",
    "         0.16505091],\n",
    "       [ 0.09561176,  0.34396535,  0.0643941 ,  0.16240774,  0.24206137,\n",
    "         0.09155967]])\n",
    "```\n",
    "\n",
    "Running it through `sess.run(tf.nn.top_k(tf.constant(a), k=3))` produces:\n",
    "\n",
    "```\n",
    "TopKV2(values=array([[ 0.34763842,  0.24879643,  0.12789202],\n",
    "       [ 0.28086119,  0.27569815,  0.18063401],\n",
    "       [ 0.26076848,  0.23892179,  0.23664738],\n",
    "       [ 0.29198961,  0.26234032,  0.16505091],\n",
    "       [ 0.34396535,  0.24206137,  0.16240774]]), indices=array([[3, 0, 5],\n",
    "       [0, 1, 4],\n",
    "       [0, 5, 1],\n",
    "       [1, 3, 5],\n",
    "       [1, 4, 3]], dtype=int32))\n",
    "```\n",
    "\n",
    "Looking just at the first row we get `[ 0.34763842,  0.24879643,  0.12789202]`, you can confirm these are the 3 largest probabilities in `a`. You'll also notice `[3, 0, 5]` are the corresponding indices."
   ]
  },
  {
   "cell_type": "code",
   "execution_count": 19,
   "metadata": {},
   "outputs": [
    {
     "name": "stdout",
     "output_type": "stream",
     "text": [
      "TopKV2(values=array([[  1.00000000e+00,   1.13136311e-25,   2.54634516e-28,\n",
      "          5.93235747e-31,   2.82752125e-33],\n",
      "       [  8.43538046e-01,   1.48812681e-01,   7.60222785e-03,\n",
      "          4.45691621e-05,   2.13873227e-06],\n",
      "       [  9.99989629e-01,   1.01451378e-05,   2.19307665e-07,\n",
      "          2.03021582e-08,   2.40130693e-09],\n",
      "       [  9.86216545e-01,   1.37700047e-02,   1.32805826e-05,\n",
      "          6.77348382e-08,   6.75868042e-12],\n",
      "       [  7.99573362e-01,   1.47752106e-01,   5.00383116e-02,\n",
      "          8.50116310e-04,   7.64900062e-04]], dtype=float32), indices=array([[17, 14, 13, 32,  8],\n",
      "       [14, 13, 15,  2,  3],\n",
      "       [ 3,  5,  6,  2,  1],\n",
      "       [37, 12, 39, 40, 35],\n",
      "       [36, 17, 38, 32, 41]], dtype=int32))\n"
     ]
    }
   ],
   "source": [
    "### Print out the top five softmax probabilities for the predictions on the German traffic sign images found on the web. \n",
    "### Feel free to use as many code cells as needed.\n",
    "softmax_probabilities = sess.run(tf.nn.top_k(tf.nn.softmax(hypo),k = 5), feed_dict={X:my_input, keep_prob:1})\n",
    "print(softmax_probabilities)"
   ]
  },
  {
   "cell_type": "markdown",
   "metadata": {},
   "source": [
    "### Project Writeup\n",
    "\n",
    "Once you have completed the code implementation, document your results in a project writeup using this [template](https://github.com/udacity/CarND-Traffic-Sign-Classifier-Project/blob/master/writeup_template.md) as a guide. The writeup can be in a markdown or pdf file. "
   ]
  },
  {
   "cell_type": "markdown",
   "metadata": {},
   "source": [
    "> **Note**: Once you have completed all of the code implementations and successfully answered each question above, you may finalize your work by exporting the iPython Notebook as an HTML document. You can do this by using the menu above and navigating to  \\n\",\n",
    "    \"**File -> Download as -> HTML (.html)**. Include the finished document along with this notebook as your submission."
   ]
  },
  {
   "cell_type": "markdown",
   "metadata": {},
   "source": [
    "---\n",
    "\n",
    "## Step 4 (Optional): Visualize the Neural Network's State with Test Images\n",
    "\n",
    " This Section is not required to complete but acts as an additional excersise for understaning the output of a neural network's weights. While neural networks can be a great learning device they are often referred to as a black box. We can understand what the weights of a neural network look like better by plotting their feature maps. After successfully training your neural network you can see what it's feature maps look like by plotting the output of the network's weight layers in response to a test stimuli image. From these plotted feature maps, it's possible to see what characteristics of an image the network finds interesting. For a sign, maybe the inner network feature maps react with high activation to the sign's boundary outline or to the contrast in the sign's painted symbol.\n",
    "\n",
    " Provided for you below is the function code that allows you to get the visualization output of any tensorflow weight layer you want. The inputs to the function should be a stimuli image, one used during training or a new one you provided, and then the tensorflow variable name that represents the layer's state during the training process, for instance if you wanted to see what the [LeNet lab's](https://classroom.udacity.com/nanodegrees/nd013/parts/fbf77062-5703-404e-b60c-95b78b2f3f9e/modules/6df7ae49-c61c-4bb2-a23e-6527e69209ec/lessons/601ae704-1035-4287-8b11-e2c2716217ad/concepts/d4aca031-508f-4e0b-b493-e7b706120f81) feature maps looked like for it's second convolutional layer you could enter conv2 as the tf_activation variable.\n",
    "\n",
    "For an example of what feature map outputs look like, check out NVIDIA's results in their paper [End-to-End Deep Learning for Self-Driving Cars](https://devblogs.nvidia.com/parallelforall/deep-learning-self-driving-cars/) in the section Visualization of internal CNN State. NVIDIA was able to show that their network's inner weights had high activations to road boundary lines by comparing feature maps from an image with a clear path to one without. Try experimenting with a similar test to show that your trained network's weights are looking for interesting features, whether it's looking at differences in feature maps from images with or without a sign, or even what feature maps look like in a trained network vs a completely untrained one on the same sign image.\n",
    "\n",
    "<figure>\n",
    " <img src=\"visualize_cnn.png\" width=\"380\" alt=\"Combined Image\" />\n",
    " <figcaption>\n",
    " <p></p> \n",
    " <p style=\"text-align: center;\"> Your output should look something like this (above)</p> \n",
    " </figcaption>\n",
    "</figure>\n",
    " <p></p> \n"
   ]
  },
  {
   "cell_type": "code",
   "execution_count": 122,
   "metadata": {
    "collapsed": true
   },
   "outputs": [],
   "source": [
    "### Visualize your network's feature maps here.\n",
    "### Feel free to use as many code cells as needed.\n",
    "\n",
    "# image_input: the test image being fed into the network to produce the feature maps\n",
    "# tf_activation: should be a tf variable name used during your training procedure that represents the calculated state of a specific weight layer\n",
    "# activation_min/max: can be used to view the activation contrast in more detail, by default matplot sets min and max to the actual min and max values of the output\n",
    "# plt_num: used to plot out multiple different weight feature map sets on the same block, just extend the plt number for each new feature map entry\n",
    "\n",
    "def outputFeatureMap(image_input, tf_activation, activation_min=-1, activation_max=-1 ,plt_num=1):\n",
    "    # Here make sure to preprocess your image_input in a way your network expects\n",
    "    # with size, normalization, ect if needed\n",
    "    # image_input =\n",
    "    # Note: x should be the same name as your network's tensorflow data placeholder variable\n",
    "    # If you get an error tf_activation is not defined it may be having trouble accessing the variable from inside a function\n",
    "    activation = tf_activation.eval(session=sess,feed_dict={x : image_input})\n",
    "    featuremaps = activation.shape[3]\n",
    "    plt.figure(plt_num, figsize=(15,15))\n",
    "    for featuremap in range(featuremaps):\n",
    "        plt.subplot(6,8, featuremap+1) # sets the number of feature maps to show on each row and column\n",
    "        plt.title('FeatureMap ' + str(featuremap)) # displays the feature map number\n",
    "        if activation_min != -1 & activation_max != -1:\n",
    "            plt.imshow(activation[0,:,:, featuremap], interpolation=\"nearest\", vmin =activation_min, vmax=activation_max, cmap=\"gray\")\n",
    "        elif activation_max != -1:\n",
    "            plt.imshow(activation[0,:,:, featuremap], interpolation=\"nearest\", vmax=activation_max, cmap=\"gray\")\n",
    "        elif activation_min !=-1:\n",
    "            plt.imshow(activation[0,:,:, featuremap], interpolation=\"nearest\", vmin=activation_min, cmap=\"gray\")\n",
    "        else:\n",
    "            plt.imshow(activation[0,:,:, featuremap], interpolation=\"nearest\", cmap=\"gray\")"
   ]
  },
  {
   "cell_type": "code",
   "execution_count": null,
   "metadata": {
    "collapsed": true
   },
   "outputs": [],
   "source": []
  }
 ],
 "metadata": {
  "anaconda-cloud": {},
  "kernelspec": {
   "display_name": "Python 3",
   "language": "python",
   "name": "python3"
  },
  "language_info": {
   "codemirror_mode": {
    "name": "ipython",
    "version": 3
   },
   "file_extension": ".py",
   "mimetype": "text/x-python",
   "name": "python",
   "nbconvert_exporter": "python",
   "pygments_lexer": "ipython3",
   "version": "3.5.3"
  }
 },
 "nbformat": 4,
 "nbformat_minor": 1
}
